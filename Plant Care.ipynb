{
  "nbformat": 4,
  "nbformat_minor": 0,
  "metadata": {
    "colab": {
      "provenance": [],
      "collapsed_sections": [],
      "authorship_tag": "ABX9TyNGEqHfC5lllf/dXXvKvemY",
      "include_colab_link": true
    },
    "kernelspec": {
      "name": "python3",
      "display_name": "Python 3"
    },
    "language_info": {
      "name": "python"
    }
  },
  "cells": [
    {
      "cell_type": "markdown",
      "metadata": {
        "id": "view-in-github",
        "colab_type": "text"
      },
      "source": [
        "<a href=\"https://colab.research.google.com/github/Aymane-Machay/ChessAppCs/blob/master/Plant%20Care.ipynb\" target=\"_parent\"><img src=\"https://colab.research.google.com/assets/colab-badge.svg\" alt=\"Open In Colab\"/></a>"
      ]
    },
    {
      "cell_type": "code",
      "execution_count": 1,
      "metadata": {
        "colab": {
          "base_uri": "https://localhost:8080/"
        },
        "id": "V7I_o_cu5xPt",
        "outputId": "6272281e-1cb2-470c-98ae-b66ce4c859f7"
      },
      "outputs": [
        {
          "output_type": "stream",
          "name": "stdout",
          "text": [
            "Cloning into 'PlantVillage-Dataset'...\n",
            "remote: Enumerating objects: 163229, done.\u001b[K\n",
            "remote: Total 163229 (delta 0), reused 0 (delta 0), pack-reused 163229\u001b[K\n",
            "Receiving objects: 100% (163229/163229), 2.00 GiB | 31.09 MiB/s, done.\n",
            "Resolving deltas: 100% (99/99), done.\n",
            "Checking out files: 100% (182401/182401), done.\n"
          ]
        }
      ],
      "source": [
        "!git clone https://github.com/spMohanty/PlantVillage-Dataset"
      ]
    },
    {
      "cell_type": "code",
      "source": [
        "function ClickConnect():\n",
        "    console.log(\"Working\"); \n",
        "    document.querySelector(\"colab-toolbar-button#connect\").click() \n",
        "\n",
        "setInterval(ClickConnect,60000)"
      ],
      "metadata": {
        "colab": {
          "base_uri": "https://localhost:8080/",
          "height": 133
        },
        "id": "K9zpCp-VHfAu",
        "outputId": "078fe921-55ae-493d-9e84-dfd2c09abcc2"
      },
      "execution_count": 8,
      "outputs": [
        {
          "output_type": "error",
          "ename": "SyntaxError",
          "evalue": "ignored",
          "traceback": [
            "\u001b[0;36m  File \u001b[0;32m\"<ipython-input-8-dd63d7bf5c09>\"\u001b[0;36m, line \u001b[0;32m1\u001b[0m\n\u001b[0;31m    function ClickConnect():\u001b[0m\n\u001b[0m                        ^\u001b[0m\n\u001b[0;31mSyntaxError\u001b[0m\u001b[0;31m:\u001b[0m invalid syntax\n"
          ]
        }
      ]
    },
    {
      "cell_type": "code",
      "source": [
        "import tensorflow as tf\n",
        "import numpy as np\n",
        "from tensorflow.keras import datasets, layers, models\n",
        "from tensorflow.keras.preprocessing import image\n",
        "import torch\n",
        "from PIL import Image\n",
        "import torchvision.transforms as transforms\n",
        "import matplotlib.pyplot as plt\n",
        "import os\n",
        "import random"
      ],
      "metadata": {
        "id": "x07iNJvj9CLu"
      },
      "execution_count": 2,
      "outputs": []
    },
    {
      "cell_type": "code",
      "source": [
        "def load_dataset():\n",
        "    raw = []\n",
        "    c = 0\n",
        "    test_image = []\n",
        "    test_label = []\n",
        "    train_image = []\n",
        "    train_label = []\n",
        "    rootdir = \"/content/PlantVillage-Dataset/raw/color\"\n",
        "    for subdir, dirs, files in os.walk(rootdir):\n",
        "        if subdir != rootdir:\n",
        "            label = subdir[len(rootdir)+1:]\n",
        "            #pch = label.split(\"___\")\n",
        "            #specie_label = pch[0]\n",
        "            #status_label = pch[1]\n",
        "            for file in files:\n",
        "              path = subdir+\"/\"+ file\n",
        "              image = Image.open(path)\n",
        "              transform = transforms.Compose([transforms.PILToTensor()])\n",
        "              img_tensor = transform(image)\n",
        "              raw.append((img_tensor,label))\n",
        "    random.shuffle(raw)\n",
        "    for item in raw:\n",
        "      if c<3999:\n",
        "        test_image.append(item[0])\n",
        "        test_label.append(item[1])\n",
        "      else:\n",
        "        train_image.append(item[0])\n",
        "        train_label.append(item[1])\n",
        "      c=c+1\n",
        "    return (train_image, train_label, test_image, test_label)\n"
      ],
      "metadata": {
        "id": "9OnA7dRD9yrz"
      },
      "execution_count": 2,
      "outputs": []
    },
    {
      "cell_type": "code",
      "source": [
        "model = models.Sequential()\n",
        "model.add(layers.Conv2D(32, (3, 3), activation='relu', input_shape=(256, 256, 3)))\n",
        "model.add(layers.MaxPooling2D((2, 2)))\n",
        "model.add(layers.Conv2D(64, (3, 3), activation='relu'))\n",
        "model.add(layers.MaxPooling2D((2, 2)))\n",
        "model.add(layers.Conv2D(64, (3, 3), activation='relu'))\n",
        "\n",
        "model.add(layers.Flatten())\n",
        "model.add(layers.Dense(64, activation='relu'))\n",
        "model.add(layers.Dense(40))"
      ],
      "metadata": {
        "id": "-KP28uyP-tSD"
      },
      "execution_count": 3,
      "outputs": []
    },
    {
      "cell_type": "code",
      "source": [
        "rootdir = \"/content/PlantVillage-Dataset/raw/color\"\n",
        "ds_train= tf.keras.preprocessing.image_dataset_from_directory(\n",
        "\trootdir,\n",
        "\tlabels='inferred',\n",
        "\tlabel_mode = \"int\",\n",
        "\tclass_names=['Apple___Apple_scab', 'Apple___Black_rot', 'Apple___Cedar_apple_rust', 'Apple___healthy', 'Blueberry___healthy', 'Cherry_(including_sour)___Powdery_mildew', 'Cherry_(including_sour)___healthy', 'Corn_(maize)___Cercospora_leaf_spot Gray_leaf_spot', 'Corn_(maize)___Common_rust_', 'Corn_(maize)___Northern_Leaf_Blight', 'Corn_(maize)___healthy', 'Grape___Black_rot', 'Grape___Esca_(Black_Measles)', 'Grape___Leaf_blight_(Isariopsis_Leaf_Spot)', 'Grape___healthy', 'Orange___Haunglongbing_(Citrus_greening)', 'Peach___Bacterial_spot', 'Peach___healthy', 'Pepper,_bell___Bacterial_spot', 'Pepper,_bell___healthy', 'Potato___Early_blight', 'Potato___Late_blight', 'Potato___healthy', 'Raspberry___healthy', 'Soybean___healthy', 'Squash___Powdery_mildew', 'Strawberry___Leaf_scorch', 'Strawberry___healthy', 'Tomato___Bacterial_spot', 'Tomato___Early_blight', 'Tomato___Late_blight', 'Tomato___Leaf_Mold', 'Tomato___Septoria_leaf_spot', 'Tomato___Spider_mites Two-spotted_spider_mite', 'Tomato___Target_Spot', 'Tomato___Tomato_Yellow_Leaf_Curl_Virus', 'Tomato___Tomato_mosaic_virus', 'Tomato___healthy'],\n",
        "\tcolor_mode = 'rgb',\n",
        "\tbatch_size = 32,\n",
        "\timage_size = (256,256),\n",
        "\tshuffle = True,\n",
        "\tseed = 123,\n",
        "\tvalidation_split = 0.1,\n",
        "\tsubset = \"training\",\n",
        ")\n",
        "\n",
        "ds_validate= tf.keras.preprocessing.image_dataset_from_directory(\n",
        "\trootdir,\n",
        "\tlabels='inferred',\n",
        "\tlabel_mode = \"int\",\n",
        "\tclass_names=['Apple___Apple_scab', 'Apple___Black_rot', 'Apple___Cedar_apple_rust', 'Apple___healthy', 'Blueberry___healthy', 'Cherry_(including_sour)___Powdery_mildew', 'Cherry_(including_sour)___healthy', 'Corn_(maize)___Cercospora_leaf_spot Gray_leaf_spot', 'Corn_(maize)___Common_rust_', 'Corn_(maize)___Northern_Leaf_Blight', 'Corn_(maize)___healthy', 'Grape___Black_rot', 'Grape___Esca_(Black_Measles)', 'Grape___Leaf_blight_(Isariopsis_Leaf_Spot)', 'Grape___healthy', 'Orange___Haunglongbing_(Citrus_greening)', 'Peach___Bacterial_spot', 'Peach___healthy', 'Pepper,_bell___Bacterial_spot', 'Pepper,_bell___healthy', 'Potato___Early_blight', 'Potato___Late_blight', 'Potato___healthy', 'Raspberry___healthy', 'Soybean___healthy', 'Squash___Powdery_mildew', 'Strawberry___Leaf_scorch', 'Strawberry___healthy', 'Tomato___Bacterial_spot', 'Tomato___Early_blight', 'Tomato___Late_blight', 'Tomato___Leaf_Mold', 'Tomato___Septoria_leaf_spot', 'Tomato___Spider_mites Two-spotted_spider_mite', 'Tomato___Target_Spot', 'Tomato___Tomato_Yellow_Leaf_Curl_Virus', 'Tomato___Tomato_mosaic_virus', 'Tomato___healthy'],\n",
        "\tcolor_mode = 'rgb',\n",
        "\tbatch_size = 32,\n",
        "\timage_size = (256,256),\n",
        "\tshuffle = True,\n",
        "\tseed = 123,\n",
        "\tvalidation_split = 0.1,\n",
        "\tsubset = \"validation\",\n",
        ")"
      ],
      "metadata": {
        "colab": {
          "base_uri": "https://localhost:8080/"
        },
        "id": "GmuLKea6i-Qm",
        "outputId": "05ee19f4-f75b-4d7c-daa0-c964ea259851"
      },
      "execution_count": 4,
      "outputs": [
        {
          "output_type": "stream",
          "name": "stdout",
          "text": [
            "Found 54305 files belonging to 38 classes.\n",
            "Using 48875 files for training.\n",
            "Found 54305 files belonging to 38 classes.\n",
            "Using 5430 files for validation.\n"
          ]
        }
      ]
    },
    {
      "cell_type": "code",
      "source": [],
      "metadata": {
        "colab": {
          "base_uri": "https://localhost:8080/"
        },
        "id": "zc73ej_S8GnT",
        "outputId": "193f20f0-bb35-4757-a946-679054db9e9b"
      },
      "execution_count": 29,
      "outputs": [
        {
          "output_type": "stream",
          "name": "stdout",
          "text": [
            " \u001b[0m\u001b[01;34mApple___Apple_scab\u001b[0m/\n",
            " \u001b[01;34mApple___Black_rot\u001b[0m/\n",
            " \u001b[01;34mApple___Cedar_apple_rust\u001b[0m/\n",
            " \u001b[01;34mApple___healthy\u001b[0m/\n",
            " \u001b[01;34mBlueberry___healthy\u001b[0m/\n",
            "\u001b[01;34m'Cherry_(including_sour)___healthy'\u001b[0m/\n",
            "\u001b[01;34m'Cherry_(including_sour)___Powdery_mildew'\u001b[0m/\n",
            "\u001b[01;34m'Corn_(maize)___Cercospora_leaf_spot Gray_leaf_spot'\u001b[0m/\n",
            "\u001b[01;34m'Corn_(maize)___Common_rust_'\u001b[0m/\n",
            "\u001b[01;34m'Corn_(maize)___healthy'\u001b[0m/\n",
            "\u001b[01;34m'Corn_(maize)___Northern_Leaf_Blight'\u001b[0m/\n",
            " \u001b[01;34mGrape___Black_rot\u001b[0m/\n",
            "\u001b[01;34m'Grape___Esca_(Black_Measles)'\u001b[0m/\n",
            " \u001b[01;34mGrape___healthy\u001b[0m/\n",
            "\u001b[01;34m'Grape___Leaf_blight_(Isariopsis_Leaf_Spot)'\u001b[0m/\n",
            "\u001b[01;34m'Orange___Haunglongbing_(Citrus_greening)'\u001b[0m/\n",
            " \u001b[01;34mPeach___Bacterial_spot\u001b[0m/\n",
            " \u001b[01;34mPeach___healthy\u001b[0m/\n",
            " \u001b[01;34mPepper,_bell___Bacterial_spot\u001b[0m/\n",
            " \u001b[01;34mPepper,_bell___healthy\u001b[0m/\n",
            " \u001b[01;34mPotato___Early_blight\u001b[0m/\n",
            " \u001b[01;34mPotato___healthy\u001b[0m/\n",
            " \u001b[01;34mPotato___Late_blight\u001b[0m/\n",
            " \u001b[01;34mRaspberry___healthy\u001b[0m/\n",
            " \u001b[01;34mSoybean___healthy\u001b[0m/\n",
            " \u001b[01;34mSquash___Powdery_mildew\u001b[0m/\n",
            " \u001b[01;34mStrawberry___healthy\u001b[0m/\n",
            " \u001b[01;34mStrawberry___Leaf_scorch\u001b[0m/\n",
            " \u001b[01;34mTomato___Bacterial_spot\u001b[0m/\n",
            " \u001b[01;34mTomato___Early_blight\u001b[0m/\n",
            " \u001b[01;34mTomato___healthy\u001b[0m/\n",
            " \u001b[01;34mTomato___Late_blight\u001b[0m/\n",
            " \u001b[01;34mTomato___Leaf_Mold\u001b[0m/\n",
            " \u001b[01;34mTomato___Septoria_leaf_spot\u001b[0m/\n",
            "\u001b[01;34m'Tomato___Spider_mites Two-spotted_spider_mite'\u001b[0m/\n",
            " \u001b[01;34mTomato___Target_Spot\u001b[0m/\n",
            " \u001b[01;34mTomato___Tomato_mosaic_virus\u001b[0m/\n",
            " \u001b[01;34mTomato___Tomato_Yellow_Leaf_Curl_Virus\u001b[0m/\n"
          ]
        }
      ]
    },
    {
      "cell_type": "code",
      "source": [
        "#train_images, test_images = train_images / 255.0, test_images / 255.0\n",
        "model.compile(optimizer='adam',\n",
        "              loss=tf.keras.losses.SparseCategoricalCrossentropy(from_logits=True),\n",
        "              metrics=['accuracy'])\n",
        "\n",
        "history = model.fit(ds_train, epochs=4, verbose=2)"
      ],
      "metadata": {
        "colab": {
          "base_uri": "https://localhost:8080/"
        },
        "id": "7zfyz178-LRl",
        "outputId": "d4a8782e-3b16-4fb6-8df0-de5194de0a48"
      },
      "execution_count": 7,
      "outputs": [
        {
          "output_type": "stream",
          "name": "stdout",
          "text": [
            "Epoch 1/4\n",
            "1528/1528 - 4681s - loss: 8.0522 - accuracy: 0.2399 - 4681s/epoch - 3s/step\n",
            "Epoch 2/4\n",
            "1528/1528 - 4717s - loss: 1.4900 - accuracy: 0.5769 - 4717s/epoch - 3s/step\n",
            "Epoch 3/4\n",
            "1528/1528 - 4727s - loss: 0.7025 - accuracy: 0.7889 - 4727s/epoch - 3s/step\n",
            "Epoch 4/4\n",
            "1528/1528 - 4716s - loss: 0.3218 - accuracy: 0.9029 - 4716s/epoch - 3s/step\n"
          ]
        }
      ]
    },
    {
      "cell_type": "code",
      "source": [
        "test_loss, test_acc = model.evaluate(ds_validate, verbose=2)\n",
        "print(test_acc)"
      ],
      "metadata": {
        "colab": {
          "base_uri": "https://localhost:8080/"
        },
        "id": "KXAlCnSRebBW",
        "outputId": "6d5c4b7f-8b53-4d6d-f787-5d922605d08c"
      },
      "execution_count": 9,
      "outputs": [
        {
          "output_type": "stream",
          "name": "stdout",
          "text": [
            "170/170 - 142s - loss: 1.6725 - accuracy: 0.6602 - 142s/epoch - 834ms/step\n",
            "0.6602209806442261\n"
          ]
        }
      ]
    },
    {
      "cell_type": "code",
      "source": [
        "model.save(\"PlantCare.h5\")"
      ],
      "metadata": {
        "id": "_wHJcNNYJ2IA"
      },
      "execution_count": 10,
      "outputs": []
    },
    {
      "cell_type": "code",
      "source": [
        "from google.colab import files\n",
        "files.download('PlantCare.h5')"
      ],
      "metadata": {
        "colab": {
          "base_uri": "https://localhost:8080/",
          "height": 17
        },
        "id": "TGlFFKfqRS4R",
        "outputId": "fa8d5026-4f74-4726-8ed6-9c4363cf812b"
      },
      "execution_count": 12,
      "outputs": [
        {
          "output_type": "display_data",
          "data": {
            "text/plain": [
              "<IPython.core.display.Javascript object>"
            ],
            "application/javascript": [
              "\n",
              "    async function download(id, filename, size) {\n",
              "      if (!google.colab.kernel.accessAllowed) {\n",
              "        return;\n",
              "      }\n",
              "      const div = document.createElement('div');\n",
              "      const label = document.createElement('label');\n",
              "      label.textContent = `Downloading \"${filename}\": `;\n",
              "      div.appendChild(label);\n",
              "      const progress = document.createElement('progress');\n",
              "      progress.max = size;\n",
              "      div.appendChild(progress);\n",
              "      document.body.appendChild(div);\n",
              "\n",
              "      const buffers = [];\n",
              "      let downloaded = 0;\n",
              "\n",
              "      const channel = await google.colab.kernel.comms.open(id);\n",
              "      // Send a message to notify the kernel that we're ready.\n",
              "      channel.send({})\n",
              "\n",
              "      for await (const message of channel.messages) {\n",
              "        // Send a message to notify the kernel that we're ready.\n",
              "        channel.send({})\n",
              "        if (message.buffers) {\n",
              "          for (const buffer of message.buffers) {\n",
              "            buffers.push(buffer);\n",
              "            downloaded += buffer.byteLength;\n",
              "            progress.value = downloaded;\n",
              "          }\n",
              "        }\n",
              "      }\n",
              "      const blob = new Blob(buffers, {type: 'application/binary'});\n",
              "      const a = document.createElement('a');\n",
              "      a.href = window.URL.createObjectURL(blob);\n",
              "      a.download = filename;\n",
              "      div.appendChild(a);\n",
              "      a.click();\n",
              "      div.remove();\n",
              "    }\n",
              "  "
            ]
          },
          "metadata": {}
        },
        {
          "output_type": "display_data",
          "data": {
            "text/plain": [
              "<IPython.core.display.Javascript object>"
            ],
            "application/javascript": [
              "download(\"download_7513c9fb-0cfe-4ee0-b8f8-7273c1247106\", \"PlantCare.h5\", 177709704)"
            ]
          },
          "metadata": {}
        }
      ]
    }
  ]
}